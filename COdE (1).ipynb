{
 "cells": [
  {
   "cell_type": "code",
   "execution_count": 2,
   "metadata": {},
   "outputs": [],
   "source": [
    "import seaborn as sns\n",
    "import numpy as np\n",
    "import matplotlib.pyplot as plt\n",
    "import pandas as pd"
   ]
  },
  {
   "cell_type": "code",
   "execution_count": 3,
   "metadata": {},
   "outputs": [
    {
     "name": "stderr",
     "output_type": "stream",
     "text": [
      "C:\\Users\\ucspa\\anaconda3\\lib\\site-packages\\IPython\\core\\interactiveshell.py:3063: DtypeWarning: Columns (0) have mixed types.Specify dtype option on import or set low_memory=False.\n",
      "  interactivity=interactivity, compiler=compiler, result=result)\n"
     ]
    }
   ],
   "source": [
    "dataset = pd.read_csv('dataset.csv')\n",
    "df = dataset.copy()"
   ]
  },
  {
   "cell_type": "code",
   "execution_count": null,
   "metadata": {},
   "outputs": [],
   "source": [
    "df.head()\n",
    "df.info()\n",
    "df.isnull().sum()"
   ]
  },
  {
   "cell_type": "code",
   "execution_count": null,
   "metadata": {},
   "outputs": [],
   "source": [
    "replacements = {'state': {r'Uttaranchal': 'Uttarakhand', }}\n",
    "df.replace(replacements, regex = True, inplace = True)\n"
   ]
  },
  {
   "cell_type": "code",
   "execution_count": null,
   "metadata": {},
   "outputs": [],
   "source": [
    "df['agency'].value_counts()\n",
    "# date format - mm/dd/yyyy\n",
    "df['type'].value_counts()"
   ]
  },
  {
   "cell_type": "code",
   "execution_count": null,
   "metadata": {},
   "outputs": [],
   "source": [
    "#deleting all values which have null in type attribute\n",
    "df = df.dropna(axis = 0, subset = ['type'])\n",
    "# deleting all values which are null in location attribute\n",
    "df = df.dropna(axis = 0, subset = ['location'])\n",
    "#deleting all null values in so2 attribute\n",
    "df = df.dropna(axis = 0, subset = ['so2'])"
   ]
  },
  {
   "cell_type": "code",
   "execution_count": null,
   "metadata": {},
   "outputs": [],
   "source": [
    "df.isnull().sum()"
   ]
  },
  {
   "cell_type": "code",
   "execution_count": null,
   "metadata": {},
   "outputs": [],
   "source": [
    "#not interested in agency\n",
    "del df['agency']\n",
    "del df['location_monitoring_station']\n",
    "del df['stn_code']\n",
    "del df['sampling_date']"
   ]
  },
  {
   "cell_type": "code",
   "execution_count": null,
   "metadata": {},
   "outputs": [],
   "source": [
    "#dataset after deleting the above columns\n",
    "df.head()"
   ]
  },
  {
   "cell_type": "code",
   "execution_count": null,
   "metadata": {},
   "outputs": [],
   "source": [
    "# 298 locations, 34 states"
   ]
  },
  {
   "cell_type": "code",
   "execution_count": null,
   "metadata": {},
   "outputs": [],
   "source": [
    "#changing type to only 3 categories\n",
    "a = list(df['type'])\n",
    "for i in range(0, len(df)):\n",
    "    if str(a[i][0]) == 'R' and a[i][1] == 'e':\n",
    "        a[i] = 'Residential'\n",
    "    elif str(a[i][0]) == 'I':\n",
    "        a[i] = 'Industrial'\n",
    "    else:\n",
    "        a[i] = 'Other'"
   ]
  },
  {
   "cell_type": "code",
   "execution_count": null,
   "metadata": {},
   "outputs": [],
   "source": [
    "df['type'] = a\n",
    "df['type'].value_counts()"
   ]
  },
  {
   "cell_type": "code",
   "execution_count": null,
   "metadata": {},
   "outputs": [],
   "source": [
    "######################################### do add threshold lines\n",
    "#how many observations belong to each location\n",
    "sns.catplot(x = \"type\", kind = \"count\", palette = \"ch: 0.25\", data = df)"
   ]
  },
  {
   "cell_type": "code",
   "execution_count": null,
   "metadata": {},
   "outputs": [],
   "source": [
    "#bar plot of so2 vs state - desc order\n",
    "df[['so2', 'state']].groupby(['state']).median().sort_values(\"so2\", ascending = False).plot.bar()"
   ]
  },
  {
   "cell_type": "code",
   "execution_count": null,
   "metadata": {},
   "outputs": [],
   "source": [
    "# bar plot of no2 vs state - desc order\n",
    "df[['no2', 'state']].groupby(['state']).median().sort_values(\"no2\", ascending = False).plot.bar(color = 'r')"
   ]
  },
  {
   "cell_type": "code",
   "execution_count": null,
   "metadata": {},
   "outputs": [],
   "source": [
    "# rspm = PM10\n",
    "df[['rspm', 'state']].groupby(['state']).median().sort_values(\"rspm\", ascending = False).plot.bar(color = 'r')\n"
   ]
  },
  {
   "cell_type": "code",
   "execution_count": null,
   "metadata": {},
   "outputs": [],
   "source": [
    "# spm\n",
    "df[['spm', 'state']].groupby(['state']).median().sort_values(\"spm\", ascending = False).plot.bar(color = 'r')"
   ]
  },
  {
   "cell_type": "code",
   "execution_count": null,
   "metadata": {},
   "outputs": [],
   "source": [
    "# pm2_5\n",
    "df[['pm2_5', 'state']].groupby(['state']).median().sort_values(\"pm2_5\", ascending = False).plot.bar(color = 'r')"
   ]
  },
  {
   "cell_type": "code",
   "execution_count": null,
   "metadata": {},
   "outputs": [],
   "source": [
    "#Scatter plots of all columns\n",
    "sns.set()\n",
    "cols = ['so2', 'no2', 'rspm', 'spm', 'pm2_5']\n",
    "sns.pairplot(df[cols], size = 2.5)\n",
    "plt.show()"
   ]
  },
  {
   "cell_type": "code",
   "execution_count": null,
   "metadata": {},
   "outputs": [],
   "source": [
    "#Correlation matrix\n",
    "corrmat = df.corr()\n",
    "f, ax = plt.subplots(figsize = (15, 10))\n",
    "sns.heatmap(corrmat, vmax = 1, square = True, annot = True)"
   ]
  },
  {
   "cell_type": "code",
   "execution_count": null,
   "metadata": {},
   "outputs": [],
   "source": [
    "# Creating an year column\n",
    "df['date'] = pd.to_datetime(df['date'], format = '%m/%d/%Y')\n",
    "df['year'] = df['date'].dt.year # year\n",
    "df['year'] = df['year'].fillna(0.0).astype(int)\n",
    "df = df[(df['year']>0)]"
   ]
  },
  {
   "cell_type": "code",
   "execution_count": null,
   "metadata": {},
   "outputs": [],
   "source": [
    "df.head()"
   ]
  },
  {
   "cell_type": "code",
   "execution_count": null,
   "metadata": {},
   "outputs": [],
   "source": [
    "# Heatmap Pivot with State as Row, Year as Col, No2 as Value\n",
    "f, ax = plt.subplots(figsize = (10,10))\n",
    "ax.set_title('{} by state and year'.format('so2'))\n",
    "sns.heatmap(df.pivot_table('so2', index = 'state',\n",
    "                columns = ['year'], aggfunc = 'median', margins=True),\n",
    "                annot = True, cmap = 'YlGnBu', linewidths = 1, ax = ax, cbar_kws = {'label': 'Average taken Annually'})"
   ]
  },
  {
   "cell_type": "code",
   "execution_count": null,
   "metadata": {},
   "outputs": [],
   "source": [
    "# Heatmap Pivot with State as Row, Year as Col, So2 as Value\n",
    "f, ax = plt.subplots(figsize=(10,10))\n",
    "ax.set_title('{} by state and year'.format('no2'))\n",
    "sns.heatmap(df.pivot_table('no2', index='state',\n",
    "                columns=['year'],aggfunc='median',margins=True),\n",
    "                annot = True, cmap = \"YlGnBu\", linewidths = 1, ax = ax,cbar_kws = {'label': 'Annual Average'})"
   ]
  },
  {
   "cell_type": "code",
   "execution_count": null,
   "metadata": {},
   "outputs": [],
   "source": [
    "\n",
    "# bar plot of no2 vs location - desc order - first 50\n",
    "df[['no2', 'location']].groupby(['location']).median().sort_values(\"no2\", ascending = False).head(50).plot.bar(color = 'g')"
   ]
  },
  {
   "cell_type": "code",
   "execution_count": null,
   "metadata": {},
   "outputs": [],
   "source": [
    "# bar plot of no2 vs location - desc order - last 50\n",
    "df[['no2', 'location']].groupby(['location']).median().sort_values(\"no2\", ascending = False).tail(50).plot.bar(color = 'g')"
   ]
  },
  {
   "cell_type": "code",
   "execution_count": null,
   "metadata": {},
   "outputs": [],
   "source": [
    "# bar plot of so2 vs location - desc order\n",
    "df[['so2', 'location']].groupby(['location']).median().sort_values(\"so2\", ascending = False).head(50).plot.bar(color = 'y')"
   ]
  },
  {
   "cell_type": "code",
   "execution_count": null,
   "metadata": {},
   "outputs": [],
   "source": [
    "# bar plot of no2 vs location - desc order\n",
    "df[['so2', 'location']].groupby(['location']).median().sort_values(\"so2\", ascending = False).tail(50).plot.bar(color = 'y')"
   ]
  },
  {
   "cell_type": "code",
   "execution_count": null,
   "metadata": {},
   "outputs": [],
   "source": [
    "# rspm = PM10 - location wise - first 50\n",
    "df[['rspm', 'location']].groupby(['location']).median().sort_values(\"rspm\", ascending = False).head(50).plot.bar(color = 'r')"
   ]
  },
  {
   "cell_type": "code",
   "execution_count": null,
   "metadata": {},
   "outputs": [],
   "source": [
    "# spm = PM10 - location wise - first 50\n",
    "df[['spm', 'location']].groupby(['location']).median().sort_values(\"spm\", ascending = False).head(50).plot.bar(color = 'r')"
   ]
  },
  {
   "cell_type": "code",
   "execution_count": null,
   "metadata": {},
   "outputs": [],
   "source": [
    "# pm2_5 vs location - all non null values\n",
    "df[['pm2_5', 'location']].groupby(['location']).median().sort_values(\"pm2_5\", ascending = False).head(64).plot.bar(color = 'r')"
   ]
  },
  {
   "cell_type": "code",
   "execution_count": null,
   "metadata": {},
   "outputs": [],
   "source": [
    "# heatmap of rspm\n",
    "f, ax = plt.subplots(figsize = (10,10))\n",
    "ax.set_title('{} by state and year'.format('rspm'))\n",
    "sns.heatmap(df.pivot_table('rspm', index='state',\n",
    "                columns = ['year'], aggfunc = 'median', margins = True),\n",
    "                annot = True, cmap = \"YlGnBu\", linewidths = 1, ax = ax, cbar_kws = {'label': 'Annual Average'})"
   ]
  },
  {
   "cell_type": "code",
   "execution_count": null,
   "metadata": {},
   "outputs": [],
   "source": [
    "# heatmap of spm\n",
    "f, ax = plt.subplots(figsize = (10, 10))\n",
    "ax.set_title('{} by state and year'.format('spm'))\n",
    "sns.heatmap(df.pivot_table('spm', index ='state',\n",
    "                columns = ['year'], aggfunc = 'median', margins = True)\n",
    "                , cmap = \"YlGnBu\", linewidths = 0.5, ax = ax, cbar_kws = {'label': 'Annual Average'})"
   ]
  },
  {
   "cell_type": "code",
   "execution_count": null,
   "metadata": {},
   "outputs": [],
   "source": []
  },
  {
   "cell_type": "code",
   "execution_count": null,
   "metadata": {},
   "outputs": [],
   "source": []
  },
  {
   "cell_type": "code",
   "execution_count": null,
   "metadata": {},
   "outputs": [],
   "source": []
  }
 ],
 "metadata": {
  "kernelspec": {
   "display_name": "Python 3",
   "language": "python",
   "name": "python3"
  }
 },
 "nbformat": 4,
 "nbformat_minor": 4
}
